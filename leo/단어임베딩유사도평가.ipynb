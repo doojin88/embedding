{
 "cells": [
  {
   "cell_type": "markdown",
   "metadata": {},
   "source": [
    "# 단어 임베딩 유사도 평가"
   ]
  },
  {
   "cell_type": "code",
   "execution_count": 1,
   "metadata": {},
   "outputs": [],
   "source": [
    "import warnings\n",
    "warnings.filterwarnings(action='ignore') "
   ]
  },
  {
   "cell_type": "code",
   "execution_count": 2,
   "metadata": {},
   "outputs": [],
   "source": [
    "import os\n",
    "import sys\n",
    "\n",
    "sys.path.insert(0, os.path.abspath('/notebooks/embedding'))\n",
    "sys.path.insert(0, os.path.abspath('/notebooks/embedding/models'))\n",
    "#sys.path.append('/notebooks/embedding')"
   ]
  },
  {
   "cell_type": "code",
   "execution_count": 3,
   "metadata": {},
   "outputs": [],
   "source": [
    "# ! wget https://github.com/dongjun-Lee/kor2vec/raw/master/test_dataset/kor_ws353.csv -P /notebooks/embedding/data/raw"
   ]
  },
  {
   "cell_type": "code",
   "execution_count": 4,
   "metadata": {},
   "outputs": [],
   "source": [
    "eval_fname='/notebooks/embedding/data/raw/kor_ws353.csv'"
   ]
  },
  {
   "cell_type": "code",
   "execution_count": 5,
   "metadata": {},
   "outputs": [],
   "source": [
    "from models.word_eval import WordEmbeddingEvaluator"
   ]
  },
  {
   "cell_type": "markdown",
   "metadata": {},
   "source": [
    "## 코드 4-35 단어 유사도 평가 수행 코드 (word2vec)"
   ]
  },
  {
   "cell_type": "code",
   "execution_count": 6,
   "metadata": {},
   "outputs": [],
   "source": [
    "eval_fname='/notebooks/embedding/data/raw/kor_ws353.csv'"
   ]
  },
  {
   "cell_type": "code",
   "execution_count": 7,
   "metadata": {},
   "outputs": [],
   "source": [
    "vecs_txt_fname='/notebooks/embedding/data/word-embeddings/word2vec/word2vec'\n",
    "method='word2vec'\n",
    "dim=100\n",
    "tokenizer_name='mecab'"
   ]
  },
  {
   "cell_type": "code",
   "execution_count": 8,
   "metadata": {},
   "outputs": [],
   "source": [
    "from models.word_eval import WordEmbeddingEvaluator"
   ]
  },
  {
   "cell_type": "code",
   "execution_count": 9,
   "metadata": {},
   "outputs": [],
   "source": [
    "model = WordEmbeddingEvaluator(vecs_txt_fname=vecs_txt_fname, \n",
    "                               method=method, \n",
    "                               dim=dim, \n",
    "                               tokenizer_name=tokenizer_name)"
   ]
  },
  {
   "cell_type": "code",
   "execution_count": 10,
   "metadata": {},
   "outputs": [
    {
     "name": "stdout",
     "output_type": "stream",
     "text": [
      "spearman corr: 0.5770993871014621 , pearson corr: 0.5956751142850295 , # of errors: 0\n"
     ]
    }
   ],
   "source": [
    "model.word_sim_test(eval_fname)"
   ]
  },
  {
   "cell_type": "markdown",
   "metadata": {},
   "source": [
    "## 코드 4-35 단어 유사도 평가 수행 코드 (fasttext)"
   ]
  },
  {
   "cell_type": "code",
   "execution_count": 10,
   "metadata": {},
   "outputs": [],
   "source": [
    "eval_fname='/notebooks/embedding/data/raw/kor_ws353.csv'"
   ]
  },
  {
   "cell_type": "code",
   "execution_count": 11,
   "metadata": {},
   "outputs": [],
   "source": [
    "vecs_txt_fname='/notebooks/embedding/data/word-embeddings/fasttext/fasttext.vec'\n",
    "vecs_bin_fname='/notebooks/embedding/data/word-embeddings/fasttext/fasttext.bin'\n",
    "method='fasttext'\n",
    "dim=100\n",
    "tokenizer_name='mecab'"
   ]
  },
  {
   "cell_type": "code",
   "execution_count": 12,
   "metadata": {},
   "outputs": [],
   "source": [
    "from models.word_eval import WordEmbeddingEvaluator"
   ]
  },
  {
   "cell_type": "code",
   "execution_count": 13,
   "metadata": {},
   "outputs": [
    {
     "name": "stderr",
     "output_type": "stream",
     "text": [
      "\n"
     ]
    }
   ],
   "source": [
    "model = WordEmbeddingEvaluator(vecs_txt_fname=vecs_txt_fname, \n",
    "                               vecs_bin_fname=vecs_bin_fname, \n",
    "                               method=method, \n",
    "                               dim=dim, \n",
    "                               tokenizer_name=tokenizer_name)"
   ]
  },
  {
   "cell_type": "code",
   "execution_count": 14,
   "metadata": {},
   "outputs": [
    {
     "name": "stdout",
     "output_type": "stream",
     "text": [
      "spearman corr: 0.636179558597476 , pearson corr: 0.6386177571595193 , # of errors: 0\n"
     ]
    }
   ],
   "source": [
    "model.word_sim_test(eval_fname)"
   ]
  },
  {
   "cell_type": "markdown",
   "metadata": {},
   "source": [
    "# glove"
   ]
  },
  {
   "cell_type": "code",
   "execution_count": 37,
   "metadata": {},
   "outputs": [],
   "source": [
    "vecs_txt_fname='/notebooks/embedding/data/word-embeddings/glove/glove.txt'\n",
    "method='glove'\n",
    "dim=100\n",
    "tokenizer_name='mecab'"
   ]
  },
  {
   "cell_type": "code",
   "execution_count": 38,
   "metadata": {},
   "outputs": [],
   "source": [
    "model = WordEmbeddingEvaluator(vecs_txt_fname=vecs_txt_fname, \n",
    "                               method=method, \n",
    "                               dim=dim, \n",
    "                               tokenizer_name=tokenizer_name)"
   ]
  },
  {
   "cell_type": "code",
   "execution_count": 39,
   "metadata": {
    "scrolled": false
   },
   "outputs": [
    {
     "name": "stdout",
     "output_type": "stream",
     "text": [
      "spearman corr: 0.49029953452220065 , pearson corr: 0.5383746018370396 , # of errors: 0\n"
     ]
    }
   ],
   "source": [
    "model.word_sim_test(eval_fname)"
   ]
  },
  {
   "cell_type": "markdown",
   "metadata": {},
   "source": [
    "## swivel"
   ]
  },
  {
   "cell_type": "code",
   "execution_count": 13,
   "metadata": {},
   "outputs": [],
   "source": [
    "vecs_txt_fname='/notebooks/embedding/data/word-embeddings/swivel/row_embedding.tsv'\n",
    "method='swivel'\n",
    "dim=100\n",
    "tokenizer_name='mecab'"
   ]
  },
  {
   "cell_type": "code",
   "execution_count": 14,
   "metadata": {},
   "outputs": [],
   "source": [
    "model = WordEmbeddingEvaluator(vecs_txt_fname=vecs_txt_fname, \n",
    "                               method=method, \n",
    "                               dim=dim, \n",
    "                               tokenizer_name=tokenizer_name)"
   ]
  },
  {
   "cell_type": "code",
   "execution_count": 15,
   "metadata": {},
   "outputs": [
    {
     "name": "stdout",
     "output_type": "stream",
     "text": [
      "spearman corr: 0.549541215508716 , pearson corr: 0.5727286333920304 , # of errors: 0\n"
     ]
    }
   ],
   "source": [
    "model.word_sim_test(eval_fname)"
   ]
  },
  {
   "cell_type": "code",
   "execution_count": 16,
   "metadata": {},
   "outputs": [],
   "source": [
    "# word2vec: spearman corr: 0.5770993871014621 , pearson corr: 0.5956751142850295 \n",
    "#  fasttext: spearman corr: 0.636179558597476 , pearson corr: 0.6386177571595193 ,\n",
    "# glove: spearman corr: 0.49029953452220065 , pearson corr: 0.5383746018370396\n",
    "# swivel: spearman corr: 0.549541215508716 , pearson corr: 0.5727286333920304"
   ]
  },
  {
   "cell_type": "code",
   "execution_count": 19,
   "metadata": {},
   "outputs": [],
   "source": [
    "%matplotlib inline"
   ]
  },
  {
   "cell_type": "code",
   "execution_count": 70,
   "metadata": {},
   "outputs": [],
   "source": [
    "import pandas as pd\n",
    "import numpy as np\n",
    "import matplotlib.pyplot as plt"
   ]
  },
  {
   "cell_type": "code",
   "execution_count": 22,
   "metadata": {},
   "outputs": [],
   "source": [
    "df = pd.DataFrame(\n",
    "    {\"word2vec\": [0.5770993871014621, 0.5956751142850295 ],\n",
    "     \"fasttext\": [0.636179558597476, 0.6386177571595193 ],\n",
    "     \"glove\": [0.49029953452220065, 0.5383746018370396],\n",
    "     \"swivel\": [0.549541215508716, 0.5727286333920304 ]\n",
    "    }, \n",
    "    index=[\"spearman\", \"pearson\"])"
   ]
  },
  {
   "cell_type": "code",
   "execution_count": 23,
   "metadata": {},
   "outputs": [
    {
     "data": {
      "text/html": [
       "<div>\n",
       "<style scoped>\n",
       "    .dataframe tbody tr th:only-of-type {\n",
       "        vertical-align: middle;\n",
       "    }\n",
       "\n",
       "    .dataframe tbody tr th {\n",
       "        vertical-align: top;\n",
       "    }\n",
       "\n",
       "    .dataframe thead th {\n",
       "        text-align: right;\n",
       "    }\n",
       "</style>\n",
       "<table border=\"1\" class=\"dataframe\">\n",
       "  <thead>\n",
       "    <tr style=\"text-align: right;\">\n",
       "      <th></th>\n",
       "      <th>fasttext</th>\n",
       "      <th>glove</th>\n",
       "      <th>swivel</th>\n",
       "      <th>word2vec</th>\n",
       "    </tr>\n",
       "  </thead>\n",
       "  <tbody>\n",
       "    <tr>\n",
       "      <th>spearman</th>\n",
       "      <td>0.577099</td>\n",
       "      <td>0.490300</td>\n",
       "      <td>0.549541</td>\n",
       "      <td>0.577099</td>\n",
       "    </tr>\n",
       "    <tr>\n",
       "      <th>pearson</th>\n",
       "      <td>0.595675</td>\n",
       "      <td>0.538375</td>\n",
       "      <td>0.572729</td>\n",
       "      <td>0.595675</td>\n",
       "    </tr>\n",
       "  </tbody>\n",
       "</table>\n",
       "</div>"
      ],
      "text/plain": [
       "          fasttext     glove    swivel  word2vec\n",
       "spearman  0.577099  0.490300  0.549541  0.577099\n",
       "pearson   0.595675  0.538375  0.572729  0.595675"
      ]
     },
     "execution_count": 23,
     "metadata": {},
     "output_type": "execute_result"
    }
   ],
   "source": [
    "df.head()"
   ]
  },
  {
   "cell_type": "code",
   "execution_count": 49,
   "metadata": {},
   "outputs": [],
   "source": [
    "df = pd.DataFrame(\n",
    "    {\"spearman\": [0.5770993871014621, 0.636179558597476, 0.49029953452220065, 0.549541215508716 ],\n",
    "     \"pearson\": [0.5956751142850295, 0.6386177571595193, 0.5383746018370396, 0.5727286333920304 ]}, \n",
    "    index=[\"word2vec\", \"fasttext\",\"glove\",\"swivel\"])"
   ]
  },
  {
   "cell_type": "code",
   "execution_count": 50,
   "metadata": {},
   "outputs": [
    {
     "data": {
      "text/html": [
       "<div>\n",
       "<style scoped>\n",
       "    .dataframe tbody tr th:only-of-type {\n",
       "        vertical-align: middle;\n",
       "    }\n",
       "\n",
       "    .dataframe tbody tr th {\n",
       "        vertical-align: top;\n",
       "    }\n",
       "\n",
       "    .dataframe thead th {\n",
       "        text-align: right;\n",
       "    }\n",
       "</style>\n",
       "<table border=\"1\" class=\"dataframe\">\n",
       "  <thead>\n",
       "    <tr style=\"text-align: right;\">\n",
       "      <th></th>\n",
       "      <th>pearson</th>\n",
       "      <th>spearman</th>\n",
       "    </tr>\n",
       "  </thead>\n",
       "  <tbody>\n",
       "    <tr>\n",
       "      <th>word2vec</th>\n",
       "      <td>0.595675</td>\n",
       "      <td>0.577099</td>\n",
       "    </tr>\n",
       "    <tr>\n",
       "      <th>fasttext</th>\n",
       "      <td>0.638618</td>\n",
       "      <td>0.636180</td>\n",
       "    </tr>\n",
       "    <tr>\n",
       "      <th>glove</th>\n",
       "      <td>0.538375</td>\n",
       "      <td>0.490300</td>\n",
       "    </tr>\n",
       "    <tr>\n",
       "      <th>swivel</th>\n",
       "      <td>0.572729</td>\n",
       "      <td>0.549541</td>\n",
       "    </tr>\n",
       "  </tbody>\n",
       "</table>\n",
       "</div>"
      ],
      "text/plain": [
       "           pearson  spearman\n",
       "word2vec  0.595675  0.577099\n",
       "fasttext  0.638618  0.636180\n",
       "glove     0.538375  0.490300\n",
       "swivel    0.572729  0.549541"
      ]
     },
     "execution_count": 50,
     "metadata": {},
     "output_type": "execute_result"
    }
   ],
   "source": [
    "df.head()"
   ]
  },
  {
   "cell_type": "code",
   "execution_count": 77,
   "metadata": {},
   "outputs": [
    {
     "data": {
      "image/png": "[encoded data removed]",
      "text/plain": [
       "<Figure size 720x360 with 1 Axes>"
      ]
     },
     "metadata": {
      "needs_background": "light"
     },
     "output_type": "display_data"
    }
   ],
   "source": [
    "ax = df.plot(kind=\"bar\", y=['spearman','pearson'], color=['b','r'], figsize=(10,5),rot=0)\n",
    "plt.ylim(0,0.8)\n",
    "x_offset = -0.03\n",
    "y_offset = 0.02\n",
    "for p in ax.patches:\n",
    "    b = p.get_bbox()\n",
    "    val = \"{:.4f}\".format(b.y1 + b.y0)        \n",
    "    ax.annotate(val, ((b.x0 + b.x1)/2 + x_offset, b.y1 + y_offset))"
   ]
  },
  {
   "cell_type": "code",
   "execution_count": null,
   "metadata": {},
   "outputs": [],
   "source": []
  }
 ],
 "metadata": {
  "kernelspec": {
   "display_name": "Python 3",
   "language": "python",
   "name": "python3"
  },
  "language_info": {
   "codemirror_mode": {
    "name": "ipython",
    "version": 3
   },
   "file_extension": ".py",
   "mimetype": "text/x-python",
   "name": "python",
   "nbconvert_exporter": "python",
   "pygments_lexer": "ipython3",
   "version": "3.5.2"
  }
 },
 "nbformat": 4,
 "nbformat_minor": 2
}
